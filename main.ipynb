{
 "cells": [
  {
   "cell_type": "code",
   "execution_count": null,
   "metadata": {},
   "outputs": [],
   "source": [
    "# Import packages\n",
    "import pandas as pd\n",
    "from os import environ\n",
    "from auth import Auth\n",
    "from workspace import Workspace\n",
    "from dataset import Dataset\n",
    "\n",
    "# Tenant/app settings\n",
    "TENANT_ID = environ.get('TENANT_ID', '')\n",
    "CLIENT_ID = environ.get('CLIENT_ID', '')\n",
    "CLIENT_SECRET = environ.get('CLIENT_SECRET', '')"
   ]
  },
  {
   "cell_type": "code",
   "execution_count": null,
   "metadata": {},
   "outputs": [],
   "source": [
    "# Authentication (get bearer token)\n",
    "auth = Auth(TENANT_ID, CLIENT_ID, CLIENT_SECRET)\n",
    "token = auth.get_token()"
   ]
  },
  {
   "cell_type": "code",
   "execution_count": null,
   "metadata": {},
   "outputs": [],
   "source": [
    "# Initializing objects\n",
    "workspace = Workspace(token)\n",
    "dataset = Dataset(token)"
   ]
  },
  {
   "cell_type": "code",
   "execution_count": null,
   "metadata": {},
   "outputs": [],
   "source": [
    "# Term to search on workspace name\n",
    "workspace_to_search = 'workspace'\n",
    "\n",
    "# Filter workspaces that contain search word or is Dataflows workspace\n",
    "# Saves to an Excel (.xslx) file\n",
    "workspaces = workspace.list_workspace(filters=f\"contains(name,'{workspace_to_search}')%20or%20name%20eq%20'Dataflows'\")\n",
    "workspaces_list = workspaces.get('content', [])\n",
    "\n",
    "# See content\n",
    "n = 2\n",
    "print(f'Found {len(workspaces_list)} workspaces...\\nPrinting first {n}:')\n",
    "pd.DataFrame(workspaces_list).head(n)"
   ]
  },
  {
   "cell_type": "code",
   "execution_count": null,
   "metadata": {},
   "outputs": [],
   "source": [
    "user = 'user@domain.com'\n",
    "df = workspace.batch_update_user(user=user, workspaces_list=workspaces_list)"
   ]
  },
  {
   "cell_type": "code",
   "execution_count": null,
   "metadata": {},
   "outputs": [],
   "source": [
    "# Success\n",
    "df.loc[df.status == 'Success']"
   ]
  },
  {
   "cell_type": "code",
   "execution_count": null,
   "metadata": {},
   "outputs": [],
   "source": [
    "# Errors\n",
    "df.loc[df.status != 'Success']"
   ]
  }
 ],
 "metadata": {
  "kernelspec": {
   "display_name": "Python 3.8.10 ('.venv': venv)",
   "language": "python",
   "name": "python3"
  },
  "language_info": {
   "codemirror_mode": {
    "name": "ipython",
    "version": 3
   },
   "file_extension": ".py",
   "mimetype": "text/x-python",
   "name": "python",
   "nbconvert_exporter": "python",
   "pygments_lexer": "ipython3",
   "version": "3.8.10"
  },
  "orig_nbformat": 4,
  "vscode": {
   "interpreter": {
    "hash": "a35e41bfa71e017f6e4c041ca5d5c45ec2f4000345ff614910617085911ee9ff"
   }
  }
 },
 "nbformat": 4,
 "nbformat_minor": 2
}
