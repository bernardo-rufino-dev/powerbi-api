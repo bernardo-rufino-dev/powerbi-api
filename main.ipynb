{
 "cells": [
  {
   "cell_type": "code",
   "execution_count": null,
   "metadata": {},
   "outputs": [],
   "source": [
    "# Import packages\n",
    "import pandas as pd\n",
    "from os import environ\n",
    "from auth import Auth\n",
    "from workspace import Workspace\n",
    "\n",
    "# Tenant/app settings\n",
    "TENANT_ID = environ.get('TENANT_ID', '')\n",
    "CLIENT_ID = environ.get('CLIENT_ID', '')\n",
    "CLIENT_SECRET = environ.get('CLIENT_SECRET', '')"
   ]
  },
  {
   "cell_type": "code",
   "execution_count": null,
   "metadata": {},
   "outputs": [],
   "source": [
    "# Authentication (get bearer token)\n",
    "auth = Auth(TENANT_ID, CLIENT_ID, CLIENT_SECRET)\n",
    "token = auth.get_token()"
   ]
  },
  {
   "cell_type": "code",
   "execution_count": null,
   "metadata": {},
   "outputs": [],
   "source": [
    "# Initializing object workspace\n",
    "workspace = Workspace(token)\n",
    "\n",
    "# Term to search on workspace name\n",
    "workspace_to_search = 'Brewdat'\n",
    "\n",
    "# Filter workspaces that contain search word or is Dataflows workspace\n",
    "# Saves to an Excel (.xslx) file\n",
    "workspaces = workspace.list_workspace(filters=f\"contains(name,'{workspace_to_search}')%20or%20name%20eq%20'Dataflows'\")\n",
    "workspaces_list = workspaces.get('content', [])\n",
    "\n",
    "# See content\n",
    "pd.DataFrame(workspaces_list).head(3)"
   ]
  },
  {
   "cell_type": "code",
   "execution_count": null,
   "metadata": {},
   "outputs": [],
   "source": [
    "responses = []\n",
    "\n",
    "user = 'user@domain.com'\n",
    "\n",
    "for data in workspaces_list:\n",
    "    id = data.get('id', '')\n",
    "    name = data.get('name', '')\n",
    "    response = workspace.update_user(user_principal_name=user, workspace_id=id, access_right='Admin')\n",
    "\n",
    "    # Try to update the user\n",
    "    try:\n",
    "        responses.append((id, name, 'Error', response['message']['content']))\n",
    "    except:\n",
    "        responses.append((id, name, 'Success', ''))"
   ]
  },
  {
   "cell_type": "code",
   "execution_count": null,
   "metadata": {},
   "outputs": [],
   "source": [
    "# Create a dataframe with responses\n",
    "df1 = pd.DataFrame(responses, columns=['id', 'name', 'status', 'error_message'])\n",
    "\n",
    "# Serialize json from error message as a new dataframe\n",
    "df2 = pd.json_normalize(df1['error_message'])\n",
    "\n",
    "# Drop error message column and merge both dataframes\n",
    "df1.drop(labels='error_message', axis='columns', inplace=True)\n",
    "df = pd.merge(left=df1, right=df2, left_index=True, right_index=True)\n",
    "df = df.fillna('')\n",
    "\n",
    "# Save to an Excel file with user name\n",
    "df.to_excel(f\"./data/workspaces_{user.split('@')[0]}.xlsx\", index=False)"
   ]
  },
  {
   "cell_type": "code",
   "execution_count": null,
   "metadata": {},
   "outputs": [],
   "source": [
    "# Success\n",
    "df.loc[df.status == 'Success']"
   ]
  },
  {
   "cell_type": "code",
   "execution_count": null,
   "metadata": {},
   "outputs": [],
   "source": [
    "# Errors\n",
    "df.loc[df.status != 'Success']"
   ]
  }
 ],
 "metadata": {
  "kernelspec": {
   "display_name": "Python 3.8.10 ('.venv': venv)",
   "language": "python",
   "name": "python3"
  },
  "language_info": {
   "codemirror_mode": {
    "name": "ipython",
    "version": 3
   },
   "file_extension": ".py",
   "mimetype": "text/x-python",
   "name": "python",
   "nbconvert_exporter": "python",
   "pygments_lexer": "ipython3",
   "version": "3.8.10"
  },
  "orig_nbformat": 4,
  "vscode": {
   "interpreter": {
    "hash": "a35e41bfa71e017f6e4c041ca5d5c45ec2f4000345ff614910617085911ee9ff"
   }
  }
 },
 "nbformat": 4,
 "nbformat_minor": 2
}
